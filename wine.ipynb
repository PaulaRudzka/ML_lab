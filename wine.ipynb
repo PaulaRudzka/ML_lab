{
 "cells": [
  {
   "cell_type": "markdown",
   "id": "e3d9dc8e",
   "metadata": {},
   "source": [
    "LDA, QDA, NB on wine dataset"
   ]
  },
  {
   "cell_type": "code",
   "execution_count": 8,
   "id": "3403d2c2",
   "metadata": {},
   "outputs": [],
   "source": [
    "# importing libraries\n",
    "import numpy as np\n",
    "import requests\n",
    "import pandas as pd\n",
    "from sklearn import metrics\n",
    "import matplotlib.pyplot as plt\n",
    "import urllib\n",
    "import os\n",
    "\n",
    "from sklearn.model_selection import train_test_split\n",
    "from sklearn.model_selection import KFold\n",
    "from sklearn.model_selection import cross_val_score\n",
    "from sklearn.model_selection import RepeatedKFold\n",
    "\n",
    "from sklearn.discriminant_analysis import LinearDiscriminantAnalysis\n",
    "from sklearn.discriminant_analysis import QuadraticDiscriminantAnalysis\n",
    "from sklearn.naive_bayes import GaussianNB"
   ]
  },
  {
   "cell_type": "markdown",
   "id": "7955b8fb",
   "metadata": {},
   "source": [
    "read dataset "
   ]
  },
  {
   "cell_type": "code",
   "execution_count": null,
   "id": "ad1010e0",
   "metadata": {},
   "outputs": [],
   "source": [
    "url = \"https://archive.ics.uci.edu/ml/machine-learning-databases/wine/wine.data\"\n",
    "\n",
    "data = pd.read_csv(\n",
    "    url,\n",
    "    sep=',',\n",
    "    encoding='utf-8',\n",
    "    names = ['alcohol','malic_acid','ash','alcalinity','magnesium','total_phenols','flavanoids','nonflavanoid_phenols','proanthocyanins','color_intensity','hue','code','proline']\n",
    ")\n"
   ]
  },
  {
   "cell_type": "markdown",
   "id": "64a37020",
   "metadata": {},
   "source": [
    "compare LDA, QDA, NB on full dataset"
   ]
  },
  {
   "cell_type": "code",
   "execution_count": 25,
   "id": "cb82cb64",
   "metadata": {},
   "outputs": [],
   "source": [
    "lda = LinearDiscriminantAnalysis()\n",
    "qda = QuadraticDiscriminantAnalysis()\n",
    "nb = GaussianNB()"
   ]
  },
  {
   "cell_type": "code",
   "execution_count": 128,
   "id": "834bf3c6",
   "metadata": {},
   "outputs": [],
   "source": [
    "# build extended confusion matrix \n",
    "\n",
    "def CM_large(x, y):   \n",
    "    cm = pd.crosstab(x, y)\n",
    "    print(cm)\n",
    "    FP = cm.sum(axis = 0)  - np.diag(cm)\n",
    "    FN = cm.sum(axis = 1)  - np.diag(cm)\n",
    "    TP = np.diag(cm)\n",
    "    TN = cm.sum().sum() - (FP + FN + TP)\n",
    "\n",
    "\n",
    "    TPR = TP/(TP+FN) #recall, sensitivity\n",
    "    TNR = TN/(FP+TN) #specifity, selectivity\n",
    "    \n",
    "    PPV = TP/(TP+FP) #precision\n",
    "    NPV = TN/(TN+FN)\n",
    "\n",
    "    FPR = FP/(FP+TN)\n",
    "    ACC = (TP+TN)/(TP+FP+FN+TN)\n",
    "\n",
    "\n",
    "    return np.mean(ACC), np.mean(FPR), np.mean(TPR), np.mean(PPV), np.mean(NPV)\n"
   ]
  },
  {
   "cell_type": "code",
   "execution_count": 135,
   "id": "2bafacc6",
   "metadata": {},
   "outputs": [],
   "source": [
    "def params_display(M):\n",
    "    for clf in [lda, qda, nb]:\n",
    "        clf.fit(data.iloc[:, 0:M], data.index)\n",
    "        \n",
    "    preds = pd.DataFrame(np.array([clf.predict(data.iloc[:, 0:M]) for clf in [lda, qda, nb]]).T)\n",
    "    preds.columns = [\"lda\", \"qda\", \"nb\"]\n",
    "    res = pd.DataFrame([CM_large(data.index, preds[i]) for i in preds.columns])\n",
    "\n",
    "    res.index = preds.columns\n",
    "    res.columns = [\"acc\", \"fpr\", \"tpr\", \"ppv\", \"npv\"]\n",
    "    res.columns.name = str(M) + ' columns'\n",
    "    display(res.sort_values('acc', ascending=False))"
   ]
  },
  {
   "cell_type": "code",
   "execution_count": 136,
   "id": "32047f9d",
   "metadata": {},
   "outputs": [
    {
     "name": "stdout",
     "output_type": "stream",
     "text": [
      "lda     1   2   3\n",
      "row_0            \n",
      "1      59   0   0\n",
      "2       0  71   0\n",
      "3       0   0  48\n",
      "qda     1   2   3\n",
      "row_0            \n",
      "1      59   0   0\n",
      "2       1  70   0\n",
      "3       0   0  48\n",
      "nb      1   2   3\n",
      "row_0            \n",
      "1      58   1   0\n",
      "2       0  70   1\n",
      "3       0   0  48\n"
     ]
    },
    {
     "data": {
      "application/vnd.microsoft.datawrangler.viewer.v0+json": {
       "columns": [
        {
         "name": "index",
         "rawType": "object",
         "type": "string"
        },
        {
         "name": "acc",
         "rawType": "float64",
         "type": "float"
        },
        {
         "name": "fpr",
         "rawType": "float64",
         "type": "float"
        },
        {
         "name": "tpr",
         "rawType": "float64",
         "type": "float"
        },
        {
         "name": "ppv",
         "rawType": "float64",
         "type": "float"
        },
        {
         "name": "npv",
         "rawType": "float64",
         "type": "float"
        }
       ],
       "ref": "0e562979-d123-4234-b783-eae593a12663",
       "rows": [
        [
         "lda",
         "1.0",
         "0.0",
         "1.0",
         "1.0",
         "1.0"
        ],
        [
         "qda",
         "0.99625468164794",
         "0.0028011204481792717",
         "0.9953051643192489",
         "0.9944444444444445",
         "0.9969135802469135"
        ],
        [
         "nb",
         "0.9925093632958801",
         "0.005679367361610353",
         "0.9896554468051245",
         "0.9885024432308134",
         "0.9941069574247144"
        ]
       ],
       "shape": {
        "columns": 5,
        "rows": 3
       }
      },
      "text/html": [
       "<div>\n",
       "<style scoped>\n",
       "    .dataframe tbody tr th:only-of-type {\n",
       "        vertical-align: middle;\n",
       "    }\n",
       "\n",
       "    .dataframe tbody tr th {\n",
       "        vertical-align: top;\n",
       "    }\n",
       "\n",
       "    .dataframe thead th {\n",
       "        text-align: right;\n",
       "    }\n",
       "</style>\n",
       "<table border=\"1\" class=\"dataframe\">\n",
       "  <thead>\n",
       "    <tr style=\"text-align: right;\">\n",
       "      <th>13 columns</th>\n",
       "      <th>acc</th>\n",
       "      <th>fpr</th>\n",
       "      <th>tpr</th>\n",
       "      <th>ppv</th>\n",
       "      <th>npv</th>\n",
       "    </tr>\n",
       "  </thead>\n",
       "  <tbody>\n",
       "    <tr>\n",
       "      <th>lda</th>\n",
       "      <td>1.000000</td>\n",
       "      <td>0.000000</td>\n",
       "      <td>1.000000</td>\n",
       "      <td>1.000000</td>\n",
       "      <td>1.000000</td>\n",
       "    </tr>\n",
       "    <tr>\n",
       "      <th>qda</th>\n",
       "      <td>0.996255</td>\n",
       "      <td>0.002801</td>\n",
       "      <td>0.995305</td>\n",
       "      <td>0.994444</td>\n",
       "      <td>0.996914</td>\n",
       "    </tr>\n",
       "    <tr>\n",
       "      <th>nb</th>\n",
       "      <td>0.992509</td>\n",
       "      <td>0.005679</td>\n",
       "      <td>0.989655</td>\n",
       "      <td>0.988502</td>\n",
       "      <td>0.994107</td>\n",
       "    </tr>\n",
       "  </tbody>\n",
       "</table>\n",
       "</div>"
      ],
      "text/plain": [
       "13 columns       acc       fpr       tpr       ppv       npv\n",
       "lda         1.000000  0.000000  1.000000  1.000000  1.000000\n",
       "qda         0.996255  0.002801  0.995305  0.994444  0.996914\n",
       "nb          0.992509  0.005679  0.989655  0.988502  0.994107"
      ]
     },
     "metadata": {},
     "output_type": "display_data"
    }
   ],
   "source": [
    "params_display(13)"
   ]
  },
  {
   "cell_type": "markdown",
   "id": "38f83da2",
   "metadata": {},
   "source": [
    "compare LDA, QDA, NB for 2/5/10 first cols"
   ]
  },
  {
   "cell_type": "code",
   "execution_count": 137,
   "id": "b982af94",
   "metadata": {},
   "outputs": [
    {
     "name": "stdout",
     "output_type": "stream",
     "text": [
      "lda     1   2   3\n",
      "row_0            \n",
      "1      51   1   7\n",
      "2       5  61   5\n",
      "3       7   9  32\n",
      "qda     1   2   3\n",
      "row_0            \n",
      "1      52   1   6\n",
      "2       4  62   5\n",
      "3       7  10  31\n",
      "nb      1   2   3\n",
      "row_0            \n",
      "1      51   1   7\n",
      "2       4  62   5\n",
      "3       7  10  31\n"
     ]
    },
    {
     "data": {
      "application/vnd.microsoft.datawrangler.viewer.v0+json": {
       "columns": [
        {
         "name": "index",
         "rawType": "object",
         "type": "string"
        },
        {
         "name": "acc",
         "rawType": "float64",
         "type": "float"
        },
        {
         "name": "fpr",
         "rawType": "float64",
         "type": "float"
        },
        {
         "name": "tpr",
         "rawType": "float64",
         "type": "float"
        },
        {
         "name": "ppv",
         "rawType": "float64",
         "type": "float"
        },
        {
         "name": "npv",
         "rawType": "float64",
         "type": "float"
        }
       ],
       "ref": "632a9147-7682-45ad-a1d1-3f1090f0e188",
       "rows": [
        [
         "qda",
         "0.8764044943820224",
         "0.09328536590768588",
         "0.8001429007188139",
         "0.8042690439950714",
         "0.9094720496894411"
        ],
        [
         "lda",
         "0.8726591760299626",
         "0.09553532412245991",
         "0.7967427919683828",
         "0.7986504887913339",
         "0.905857951202945"
        ],
        [
         "nb",
         "0.8726591760299626",
         "0.09584946847178843",
         "0.7944931832046896",
         "0.7976086487375268",
         "0.9064647570394696"
        ]
       ],
       "shape": {
        "columns": 5,
        "rows": 3
       }
      },
      "text/html": [
       "<div>\n",
       "<style scoped>\n",
       "    .dataframe tbody tr th:only-of-type {\n",
       "        vertical-align: middle;\n",
       "    }\n",
       "\n",
       "    .dataframe tbody tr th {\n",
       "        vertical-align: top;\n",
       "    }\n",
       "\n",
       "    .dataframe thead th {\n",
       "        text-align: right;\n",
       "    }\n",
       "</style>\n",
       "<table border=\"1\" class=\"dataframe\">\n",
       "  <thead>\n",
       "    <tr style=\"text-align: right;\">\n",
       "      <th>2 columns</th>\n",
       "      <th>acc</th>\n",
       "      <th>fpr</th>\n",
       "      <th>tpr</th>\n",
       "      <th>ppv</th>\n",
       "      <th>npv</th>\n",
       "    </tr>\n",
       "  </thead>\n",
       "  <tbody>\n",
       "    <tr>\n",
       "      <th>qda</th>\n",
       "      <td>0.876404</td>\n",
       "      <td>0.093285</td>\n",
       "      <td>0.800143</td>\n",
       "      <td>0.804269</td>\n",
       "      <td>0.909472</td>\n",
       "    </tr>\n",
       "    <tr>\n",
       "      <th>lda</th>\n",
       "      <td>0.872659</td>\n",
       "      <td>0.095535</td>\n",
       "      <td>0.796743</td>\n",
       "      <td>0.798650</td>\n",
       "      <td>0.905858</td>\n",
       "    </tr>\n",
       "    <tr>\n",
       "      <th>nb</th>\n",
       "      <td>0.872659</td>\n",
       "      <td>0.095849</td>\n",
       "      <td>0.794493</td>\n",
       "      <td>0.797609</td>\n",
       "      <td>0.906465</td>\n",
       "    </tr>\n",
       "  </tbody>\n",
       "</table>\n",
       "</div>"
      ],
      "text/plain": [
       "2 columns       acc       fpr       tpr       ppv       npv\n",
       "qda        0.876404  0.093285  0.800143  0.804269  0.909472\n",
       "lda        0.872659  0.095535  0.796743  0.798650  0.905858\n",
       "nb         0.872659  0.095849  0.794493  0.797609  0.906465"
      ]
     },
     "metadata": {},
     "output_type": "display_data"
    }
   ],
   "source": [
    "params_display(2)"
   ]
  },
  {
   "cell_type": "code",
   "execution_count": 138,
   "id": "488c9754",
   "metadata": {},
   "outputs": [
    {
     "name": "stdout",
     "output_type": "stream",
     "text": [
      "lda     1   2   3\n",
      "row_0            \n",
      "1      54   1   4\n",
      "2       1  65   5\n",
      "3       3   8  37\n",
      "qda     1   2   3\n",
      "row_0            \n",
      "1      53   1   5\n",
      "2       1  65   5\n",
      "3       2   6  40\n",
      "nb      1   2   3\n",
      "row_0            \n",
      "1      52   3   4\n",
      "2       2  62   7\n",
      "3       3   7  38\n"
     ]
    },
    {
     "data": {
      "application/vnd.microsoft.datawrangler.viewer.v0+json": {
       "columns": [
        {
         "name": "index",
         "rawType": "object",
         "type": "string"
        },
        {
         "name": "acc",
         "rawType": "float64",
         "type": "float"
        },
        {
         "name": "fpr",
         "rawType": "float64",
         "type": "float"
        },
        {
         "name": "tpr",
         "rawType": "float64",
         "type": "float"
        },
        {
         "name": "ppv",
         "rawType": "float64",
         "type": "float"
        },
        {
         "name": "npv",
         "rawType": "float64",
         "type": "float"
        }
       ],
       "ref": "d1359a19-38cc-4238-bc9f-9a62f66e578c",
       "rows": [
        [
         "qda",
         "0.9250936329588014",
         "0.05585124056811797",
         "0.8823771252751916",
         "0.8830687830687832",
         "0.9439052995154139"
        ],
        [
         "lda",
         "0.9176029962546816",
         "0.062318788047210256",
         "0.8671935094559826",
         "0.8712535624079852",
         "0.939102564102564"
        ],
        [
         "nb",
         "0.9026217228464418",
         "0.07336337842110245",
         "0.8487540118299249",
         "0.8496340056490433",
         "0.9265745733694195"
        ]
       ],
       "shape": {
        "columns": 5,
        "rows": 3
       }
      },
      "text/html": [
       "<div>\n",
       "<style scoped>\n",
       "    .dataframe tbody tr th:only-of-type {\n",
       "        vertical-align: middle;\n",
       "    }\n",
       "\n",
       "    .dataframe tbody tr th {\n",
       "        vertical-align: top;\n",
       "    }\n",
       "\n",
       "    .dataframe thead th {\n",
       "        text-align: right;\n",
       "    }\n",
       "</style>\n",
       "<table border=\"1\" class=\"dataframe\">\n",
       "  <thead>\n",
       "    <tr style=\"text-align: right;\">\n",
       "      <th>5 columns</th>\n",
       "      <th>acc</th>\n",
       "      <th>fpr</th>\n",
       "      <th>tpr</th>\n",
       "      <th>ppv</th>\n",
       "      <th>npv</th>\n",
       "    </tr>\n",
       "  </thead>\n",
       "  <tbody>\n",
       "    <tr>\n",
       "      <th>qda</th>\n",
       "      <td>0.925094</td>\n",
       "      <td>0.055851</td>\n",
       "      <td>0.882377</td>\n",
       "      <td>0.883069</td>\n",
       "      <td>0.943905</td>\n",
       "    </tr>\n",
       "    <tr>\n",
       "      <th>lda</th>\n",
       "      <td>0.917603</td>\n",
       "      <td>0.062319</td>\n",
       "      <td>0.867194</td>\n",
       "      <td>0.871254</td>\n",
       "      <td>0.939103</td>\n",
       "    </tr>\n",
       "    <tr>\n",
       "      <th>nb</th>\n",
       "      <td>0.902622</td>\n",
       "      <td>0.073363</td>\n",
       "      <td>0.848754</td>\n",
       "      <td>0.849634</td>\n",
       "      <td>0.926575</td>\n",
       "    </tr>\n",
       "  </tbody>\n",
       "</table>\n",
       "</div>"
      ],
      "text/plain": [
       "5 columns       acc       fpr       tpr       ppv       npv\n",
       "qda        0.925094  0.055851  0.882377  0.883069  0.943905\n",
       "lda        0.917603  0.062319  0.867194  0.871254  0.939103\n",
       "nb         0.902622  0.073363  0.848754  0.849634  0.926575"
      ]
     },
     "metadata": {},
     "output_type": "display_data"
    }
   ],
   "source": [
    "params_display(5)"
   ]
  },
  {
   "cell_type": "code",
   "execution_count": 139,
   "id": "9ea6e383",
   "metadata": {},
   "outputs": [
    {
     "name": "stdout",
     "output_type": "stream",
     "text": [
      "lda     1   2   3\n",
      "row_0            \n",
      "1      59   0   0\n",
      "2       1  70   0\n",
      "3       0   1  47\n",
      "qda     1   2   3\n",
      "row_0            \n",
      "1      59   0   0\n",
      "2       1  70   0\n",
      "3       0   0  48\n",
      "nb      1   2   3\n",
      "row_0            \n",
      "1      56   3   0\n",
      "2       2  68   1\n",
      "3       0   1  47\n"
     ]
    },
    {
     "data": {
      "application/vnd.microsoft.datawrangler.viewer.v0+json": {
       "columns": [
        {
         "name": "index",
         "rawType": "object",
         "type": "string"
        },
        {
         "name": "acc",
         "rawType": "float64",
         "type": "float"
        },
        {
         "name": "fpr",
         "rawType": "float64",
         "type": "float"
        },
        {
         "name": "tpr",
         "rawType": "float64",
         "type": "float"
        },
        {
         "name": "ppv",
         "rawType": "float64",
         "type": "float"
        },
        {
         "name": "npv",
         "rawType": "float64",
         "type": "float"
        }
       ],
       "ref": "74cfa3af-2d94-49ad-ade4-ab7273c68280",
       "rows": [
        [
         "qda",
         "0.99625468164794",
         "0.0028011204481792717",
         "0.9953051643192489",
         "0.9944444444444445",
         "0.9969135802469135"
        ],
        [
         "lda",
         "0.9925093632958801",
         "0.00591638524568706",
         "0.9883607198748043",
         "0.9897496087636933",
         "0.9943402059404057"
        ],
        [
         "nb",
         "0.9737827715355806",
         "0.02062740265049226",
         "0.9620218959709291",
         "0.9630427841634738",
         "0.9796686018384131"
        ]
       ],
       "shape": {
        "columns": 5,
        "rows": 3
       }
      },
      "text/html": [
       "<div>\n",
       "<style scoped>\n",
       "    .dataframe tbody tr th:only-of-type {\n",
       "        vertical-align: middle;\n",
       "    }\n",
       "\n",
       "    .dataframe tbody tr th {\n",
       "        vertical-align: top;\n",
       "    }\n",
       "\n",
       "    .dataframe thead th {\n",
       "        text-align: right;\n",
       "    }\n",
       "</style>\n",
       "<table border=\"1\" class=\"dataframe\">\n",
       "  <thead>\n",
       "    <tr style=\"text-align: right;\">\n",
       "      <th>10 columns</th>\n",
       "      <th>acc</th>\n",
       "      <th>fpr</th>\n",
       "      <th>tpr</th>\n",
       "      <th>ppv</th>\n",
       "      <th>npv</th>\n",
       "    </tr>\n",
       "  </thead>\n",
       "  <tbody>\n",
       "    <tr>\n",
       "      <th>qda</th>\n",
       "      <td>0.996255</td>\n",
       "      <td>0.002801</td>\n",
       "      <td>0.995305</td>\n",
       "      <td>0.994444</td>\n",
       "      <td>0.996914</td>\n",
       "    </tr>\n",
       "    <tr>\n",
       "      <th>lda</th>\n",
       "      <td>0.992509</td>\n",
       "      <td>0.005916</td>\n",
       "      <td>0.988361</td>\n",
       "      <td>0.989750</td>\n",
       "      <td>0.994340</td>\n",
       "    </tr>\n",
       "    <tr>\n",
       "      <th>nb</th>\n",
       "      <td>0.973783</td>\n",
       "      <td>0.020627</td>\n",
       "      <td>0.962022</td>\n",
       "      <td>0.963043</td>\n",
       "      <td>0.979669</td>\n",
       "    </tr>\n",
       "  </tbody>\n",
       "</table>\n",
       "</div>"
      ],
      "text/plain": [
       "10 columns       acc       fpr       tpr       ppv       npv\n",
       "qda         0.996255  0.002801  0.995305  0.994444  0.996914\n",
       "lda         0.992509  0.005916  0.988361  0.989750  0.994340\n",
       "nb          0.973783  0.020627  0.962022  0.963043  0.979669"
      ]
     },
     "metadata": {},
     "output_type": "display_data"
    }
   ],
   "source": [
    "params_display(10)"
   ]
  },
  {
   "cell_type": "markdown",
   "id": "16fdf297",
   "metadata": {},
   "source": [
    "create train (50%), validation (25%), test (25%) dataset for 2 cols"
   ]
  },
  {
   "cell_type": "code",
   "execution_count": null,
   "id": "6e34f984",
   "metadata": {},
   "outputs": [],
   "source": [
    "# (50% train, 50% rest)\n",
    "x_train, x_rest, y_train, y_rest = train_test_split(data.iloc[:,:2], data.klasa, test_size=0.5, stratify=data.klasa)\n",
    "\n",
    "# (50% test, 50% val)\n",
    "x_test, x_val, y_test, y_val = train_test_split(x_rest, y_rest, test_size=0.5, stratify=y_rest)\n",
    "\n",
    "# Sprawdzenie rozmiarów zbiorów\n",
    "print(\"Rozmiary zbiorów:\")\n",
    "print(\"Train:\", len(x_train))\n",
    "print(\"Val:\", len(x_val))\n",
    "print(\"Test:\", len(x_test))"
   ]
  }
 ],
 "metadata": {
  "kernelspec": {
   "display_name": "venv",
   "language": "python",
   "name": "python3"
  },
  "language_info": {
   "codemirror_mode": {
    "name": "ipython",
    "version": 3
   },
   "file_extension": ".py",
   "mimetype": "text/x-python",
   "name": "python",
   "nbconvert_exporter": "python",
   "pygments_lexer": "ipython3",
   "version": "3.11.5"
  }
 },
 "nbformat": 4,
 "nbformat_minor": 5
}
